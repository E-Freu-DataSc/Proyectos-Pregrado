{
 "cells": [
  {
   "cell_type": "markdown",
   "id": "53ac46e8-fe70-45d2-992c-ad7d363c8693",
   "metadata": {},
   "source": [
    "# WorkFlow"
   ]
  },
  {
   "cell_type": "markdown",
   "id": "d5c1330f-2a4d-4c11-b1c1-66d9fa5350f7",
   "metadata": {},
   "source": [
    "- Revisar Proyecto 7\n",
    "- Matriz de compatibilidad/soporte versiones\n",
    "- Entornos virtuales\n",
    "- Requierements\n",
    "- Estructura del Proyecto\n",
    "- Configurar Git\n",
    "- Código productivo\n",
    "- Flask\n",
    "- Postman\n",
    "- Netlify vs Pythonanywhere\n",
    "- Testing\n",
    "- Proyecto como paquete Pypi\n",
    "- Publicar Paquetes Python\n",
    "- Docker vs Vagrant"
   ]
  },
  {
   "cell_type": "markdown",
   "id": "f3ddaee6-3423-4441-8b18-ab71c721d694",
   "metadata": {},
   "source": [
    "## Matriz de soporte \n",
    "\n",
    "- [Ver](https://docs.aws.amazon.com/es_es/sdkref/latest/guide/version-support-matrix.html)\n",
    "- [Ver](https://sparkbyexamples.com/spark/spark-versions-supportability-matrix/)"
   ]
  },
  {
   "cell_type": "markdown",
   "id": "68c10a2e-bdfc-44b8-8435-c6151f300832",
   "metadata": {},
   "source": [
    "## Entorno virtual\n"
   ]
  },
  {
   "cell_type": "markdown",
   "id": "9d67e9cf-450d-43de-bb42-bfd3f8a5ea62",
   "metadata": {},
   "source": [
    "#### Crear un entorno virtual con Conda:"
   ]
  },
  {
   "cell_type": "code",
   "execution_count": null,
   "id": "48233311",
   "metadata": {},
   "outputs": [],
   "source": [
    "conda create --name Entorno_Proyecto_7 python=3.8  #listo"
   ]
  },
  {
   "cell_type": "code",
   "execution_count": 1,
   "id": "a217fb27-855a-48f4-af65-3223b3f3dfbd",
   "metadata": {},
   "outputs": [
    {
     "name": "stdout",
     "output_type": "stream",
     "text": [
      "\n",
      "Note: you may need to restart the kernel to use updated packages.\n"
     ]
    }
   ],
   "source": [
    "conda activate Entorno_Proyecto_7\n"
   ]
  },
  {
   "cell_type": "code",
   "execution_count": 2,
   "id": "fc411d97-019b-4ca2-ab50-534abf37675e",
   "metadata": {},
   "outputs": [
    {
     "name": "stdout",
     "output_type": "stream",
     "text": [
      "\n",
      "Note: you may need to restart the kernel to use updated packages.\n"
     ]
    }
   ],
   "source": [
    "conda deactivate"
   ]
  },
  {
   "cell_type": "markdown",
   "id": "3e0cfa5e-859f-4bc4-8af4-0e45946333ac",
   "metadata": {},
   "source": [
    "#### Crear un entorno virtual con venv (Python 3.x):"
   ]
  },
  {
   "cell_type": "code",
   "execution_count": null,
   "id": "61632f4c-29e7-439e-ae79-8ea8a9cfb34f",
   "metadata": {},
   "outputs": [],
   "source": [
    "# python3 -m venv mi_entorno_virtual\n"
   ]
  },
  {
   "cell_type": "code",
   "execution_count": null,
   "id": "6f269468-1eef-4154-8f5c-940ba29683c1",
   "metadata": {},
   "outputs": [],
   "source": [
    "# En Unix/Linux/macOS:\n",
    "\n",
    "# source mi_entorno_virtual/bin/activate"
   ]
  },
  {
   "cell_type": "code",
   "execution_count": null,
   "id": "a17b83fe-2756-4761-a050-61e4fbf99578",
   "metadata": {},
   "outputs": [],
   "source": [
    "# deactivate"
   ]
  },
  {
   "cell_type": "markdown",
   "id": "2a8064ab-f711-4b39-9ec8-46adc350cbd0",
   "metadata": {},
   "source": [
    "## Requierements"
   ]
  },
  {
   "cell_type": "code",
   "execution_count": null,
   "id": "2d33a016-9f85-4faf-b11d-b108dc748c80",
   "metadata": {},
   "outputs": [],
   "source": [
    "# pip freeze > requirements.txt"
   ]
  },
  {
   "cell_type": "code",
   "execution_count": null,
   "id": "1b44953e-9717-4d1b-ad54-478e1c1728a4",
   "metadata": {},
   "outputs": [],
   "source": [
    "## Estructura del Proyecto"
   ]
  },
  {
   "cell_type": "markdown",
   "id": "7317411a-7030-432a-80dd-e7856d99e391",
   "metadata": {},
   "source": [
    "## Estructura del Proyecto\n",
    "\n",
    "https://drivendata.github.io/cookiecutter-data-science/"
   ]
  },
  {
   "cell_type": "markdown",
   "id": "ae331022-de19-4370-80d2-7cfdc1885fb0",
   "metadata": {},
   "source": [
    "\"\"\"\n",
    "\n",
    "├── LICENSE              # *Archivo de licencia del proyecto\n",
    "├── Makefile             # *Archivo Makefile para automatizar tareas de construcción y ejecución\n",
    "├── README.md            # *Archivo README que describe el proyecto y cómo usarlo\n",
    "├── __init__.py          # Archivo especial para indicar que un directorio es un paquete de Python\n",
    "├── categorization       # Directorio para módulos relacionados de ML\n",
    "├── data                 # Directorio para datos para el análisis y modelado\n",
    "├── db                   # *Directorio para archivos relacionados con la base de datos\n",
    "├── docs                 # Directorio para documentos y materiales de documentación\n",
    "├── images               # Directorio para imágenes relacionadas con el proyecto\n",
    "├── main.py              # Archivo principal de la aplicación\n",
    "├── mlruns               # * Directorio para almacenar resultados y metadatos de experimentos de MLflow\n",
    "├── model                # Directorio para modelos de machine learning y archivos relacionados\n",
    "├── pipeline             # * Directorio para archivos relacionados con el pipeline de datos o procesamiento\n",
    "├── provisioner.sh       # *Script para aprovisionar recursos o configurar el entorno\n",
    "├── pyproject.toml       # *Archivo de configuración de proyecto para herramientas de construcción de Python\n",
    "├── requirements.txt     # *Archivo que lista las dependencias del proyecto para instalar con pip\n",
    "├── setup.cfg            # *Archivo de configuración para herramientas como Flake8 o MyPy\n",
    "├── setup.py             # *Archivo de configuración de setup para distribución e instalación de paquetes Python\n",
    "├── tests                # *Directorio para pruebas unitarias y de integración\n",
    "└── experimentos         # Directorio para archivos y documentos relacionados con experimentos\n",
    "    ├── 0.- Profiling.ipynb\n",
    "    ├── 1.- Resumen Ejecutivo.ipynb\n",
    "    ├── 2.- Integración y limpieza de datos.ipynb\n",
    "    ├── 3.- Exploración de datos.ipynb\n",
    "    ├── 4.- Ingeniería_de_características_V1.ipynb\n",
    "    ├── 5.- Modelado_V1.ipynb\n",
    "    ├── 5.- Modelado_v2.ipynb\n",
    "    ├── 6.- Prototipo.ipynb\n",
    "    └── 7.- Resultados y concluciones.ipynb\n",
    "\"\"\""
   ]
  },
  {
   "cell_type": "markdown",
   "id": "1e77ba74-067d-4705-9af8-c0ecaff0c368",
   "metadata": {},
   "source": [
    "## Configurar Git\n",
    "\n",
    "- Credencias  SSH"
   ]
  },
  {
   "cell_type": "markdown",
   "id": "49488aee-5974-4e96-aac4-4a68664e7734",
   "metadata": {},
   "source": [
    "## Código productivo\n",
    "- Instancia del tratamiento de outliers\n",
    "- Instancia del Scalador\n",
    "- Instancias del Transformaciones (RD, Correción de sesgos)\n",
    "- Instancias del Feature Engi\n",
    "- Modelo \n",
    "- Crear clase python\n",
    "- Variables de entorno"
   ]
  },
  {
   "cell_type": "markdown",
   "id": "cf4899a1-8ef0-4617-922c-1a7eb8afd98b",
   "metadata": {},
   "source": [
    "## Flask\n",
    "\n",
    "**¿Qué es Flask?**:\n",
    "   - Flask es un microframework web escrito en Python que facilita la creación de aplicaciones web de forma rápida y sencilla.\n",
    "   - Es minimalista y no impone una estructura rígida, lo que significa que los desarrolladores tienen libertad para organizar su código según sus necesidades.\n",
    "\n",
    "**Uso común en ciencia de datos**:\n",
    "   - En el contexto de la ciencia de datos, Flask se utiliza principalmente para construir aplicaciones web que exponen modelos, visualizaciones y análisis de datos de manera interactiva.\n",
    "   - Las aplicaciones web construidas con Flask pueden permitir a los usuarios cargar datos, ejecutar modelos de aprendizaje automático, visualizar resultados y explorar conjuntos de datos de manera interactiva a través de una interfaz de usuario amigable.\n",
    "   - Flask es especialmente útil para implementar APIs (Interfaces de Programación de Aplicaciones) que permiten a otros sistemas o aplicaciones acceder a los servicios de ciencia de datos de manera programática, como la predicción de modelos, la consulta de bases de datos o la obtención de análisis de datos en tiempo real.\n",
    "   - Además, Flask puede integrarse fácilmente con otras bibliotecas populares de Python para ciencia de datos, como pandas, scikit-learn, TensorFlow, PyTorch, entre otras, lo que lo convierte en una herramienta versátil para construir aplicaciones web basadas en datos.\n",
    "\n",
    "Este es un ejemplo de la estructura de directorios de un proyecto Flask básico.\n",
    "\n",
    "```\n",
    "project_root/\n",
    "│\n",
    "├── app/\n",
    "│   ├── __init__.py\n",
    "│   ├── views.py\n",
    "│   └── models.py\n",
    "│\n",
    "├── tests/\n",
    "│   ├── __init__.py\n",
    "│   └── test_views.py\n",
    "│\n",
    "├── run.py\n",
    "└── requirements.txt\n",
    "```\n",
    "\n",
    "\n",
    "**Estructura del proyecto**:\n",
    "\n",
    "- `app/`: Este directorio contiene todo el código relacionado con la aplicación Flask.\n",
    "  - `__init__.py`: Marca el directorio `app` como un paquete de Python.\n",
    "  - `views.py`: Define las rutas y vistas de la aplicación Flask.\n",
    "  - `models.py`: Define los modelos de datos de la aplicación (si es necesario).\n",
    "\n",
    "- `tests/`: Aquí se encuentran las pruebas unitarias para el código de la aplicación.\n",
    "  - `__init__.py`: Marca el directorio `tests` como un paquete de Python.\n",
    "  - `test_views.py`: Contiene pruebas para las vistas definidas en `views.py`.\n",
    "\n",
    "- `run.py`: Este archivo se utiliza para iniciar la aplicación Flask.\n",
    "\n",
    "- `requirements.txt`: Lista las dependencias del proyecto.\n",
    "\n",
    "Esta estructura proporciona un punto de partida simple pero completo para desarrollar aplicaciones web con Flask en Python. Puedes expandir este proyecto y/o modificar la estructura, agregando más funcionalidades según las necesidades específicas de tu aplicación.\n",
    "\n",
    "Ahora, sólo falta aclarar la parte central de las aplicaciones Flask\n",
    "\n",
    "1. **Vista**:\n",
    "   - Imagina que tienes una página web donde los usuarios pueden ver información sobre productos.\n",
    "   - La vista sería la página en sí misma. Por ejemplo, una página de inicio que muestra una lista de productos.\n",
    "\n",
    "2. **Modelo**:\n",
    "   - El modelo representaría los datos de los productos. Por ejemplo, cómo se almacenan los nombres y los precios de los productos en una base de datos.\n",
    "\n",
    "En este caso, la vista mostraría la información de los productos que obtiene del modelo. Por ejemplo, la vista podría mostrar una lista de nombres y precios de productos en la página de inicio, utilizando los datos proporcionados por el modelo.\n"
   ]
  },
  {
   "cell_type": "markdown",
   "id": "db10b83b-86fa-4b5c-808d-bf87d1a4c93b",
   "metadata": {},
   "source": [
    "## Postman"
   ]
  },
  {
   "cell_type": "markdown",
   "id": "9bd26589-7743-4791-aae9-76fb51368ba0",
   "metadata": {},
   "source": [
    "\n",
    "## Netlify vs  pythonanywhere"
   ]
  },
  {
   "cell_type": "markdown",
   "id": "5cdc006a-82be-4e9b-8d19-880ca10d0771",
   "metadata": {},
   "source": [
    "## Test"
   ]
  },
  {
   "cell_type": "markdown",
   "id": "ec468a08-8e6d-4823-a11e-0b10303a894c",
   "metadata": {},
   "source": [
    "## Publicar Paquetes Python"
   ]
  },
  {
   "cell_type": "code",
   "execution_count": null,
   "id": "058c70e4-02fa-462d-9ed0-a32a6af34181",
   "metadata": {},
   "outputs": [],
   "source": []
  }
 ],
 "metadata": {
  "kernelspec": {
   "display_name": "Python 3 (ipykernel)",
   "language": "python",
   "name": "python3"
  },
  "language_info": {
   "codemirror_mode": {
    "name": "ipython",
    "version": 3
   },
   "file_extension": ".py",
   "mimetype": "text/x-python",
   "name": "python",
   "nbconvert_exporter": "python",
   "pygments_lexer": "ipython3",
   "version": "3.8.19"
  }
 },
 "nbformat": 4,
 "nbformat_minor": 5
}
