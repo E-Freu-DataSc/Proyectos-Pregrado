{
 "cells": [
  {
   "cell_type": "code",
   "execution_count": 1,
   "metadata": {},
   "outputs": [],
   "source": [
    "import pandas as pd\n",
    "\n",
    "Oscar_coordenadas = pd.read_csv(r\"C:\\Users\\Usuario\\OneDrive - udd.cl\\Datos adjuntos\\Bootcamp ciencia de datos\\Modulo 7\\Proyecto_7_Organizacion_Presentación_Esteban_Freudenberg_UDD\\Github_Proyecto_7\\Proyectos-Pregrado\\processed\\Oscars_con_coordenadas.csv\")"
   ]
  },
  {
   "cell_type": "code",
   "execution_count": 1,
   "metadata": {},
   "outputs": [],
   "source": [
    "from Plot_Maps.Creacion_mapas import create_map_folium"
   ]
  },
  {
   "cell_type": "code",
   "execution_count": 2,
   "metadata": {},
   "outputs": [],
   "source": [
    "create_map_folium(r\"C:\\Users\\Usuario\\OneDrive - udd.cl\\Datos adjuntos\\Bootcamp ciencia de datos\\Modulo 7\\Proyecto_7_Organizacion_Presentación_Esteban_Freudenberg_UDD\\Github_Proyecto_7\\Proyectos-Pregrado\\processed\\Oscars_con_coordenadas.csv\")"
   ]
  }
 ],
 "metadata": {
  "kernelspec": {
   "display_name": "Entorno_Proyecto_7",
   "language": "python",
   "name": "python3"
  },
  "language_info": {
   "codemirror_mode": {
    "name": "ipython",
    "version": 3
   },
   "file_extension": ".py",
   "mimetype": "text/x-python",
   "name": "python",
   "nbconvert_exporter": "python",
   "pygments_lexer": "ipython3",
   "version": "3.8.19"
  }
 },
 "nbformat": 4,
 "nbformat_minor": 2
}
